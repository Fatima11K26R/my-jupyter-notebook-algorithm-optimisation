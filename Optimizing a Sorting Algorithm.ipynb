{
 "cells": [
  {
   "cell_type": "code",
   "execution_count": 1,
   "id": "5dbc7374",
   "metadata": {},
   "outputs": [],
   "source": [
    "import random\n",
    "import time\n",
    "\n",
    "# Define sorting algorithms\n",
    "def bubble_sort(arr):\n",
    "    n = len(arr)\n",
    "    for i in range(n):\n",
    "        for j in range(0, n-i-1):\n",
    "            if arr[j] > arr[j+1]:\n",
    "                arr[j], arr[j+1] = arr[j+1], arr[j]\n",
    "    return arr\n",
    "\n",
    "def merge_sort(arr):\n",
    "    if len(arr) > 1:\n",
    "        mid = len(arr)//2 #integer part of division, rounds down (or \"floors\")\n",
    "        left_half = arr[:mid]\n",
    "        right_half = arr[mid:]\n",
    "\n",
    "        merge_sort(left_half)\n",
    "        merge_sort(right_half)\n",
    "\n",
    "        i = j = k = 0\n",
    "\n",
    "        while i < len(left_half) and j < len(right_half):\n",
    "            if left_half[i] < right_half[j]:\n",
    "                arr[k] = left_half[i]\n",
    "                i += 1\n",
    "            else:\n",
    "                arr[k] = right_half[j]\n",
    "                j += 1\n",
    "            k += 1\n",
    "\n",
    "        while i < len(left_half):\n",
    "            arr[k] = left_half[i]\n",
    "            i += 1\n",
    "            k += 1\n",
    "\n",
    "        while j < len(right_half):\n",
    "            arr[k] = right_half[j]\n",
    "            j += 1\n",
    "            k += 1\n",
    "    return arr\n",
    "\n",
    "def quick_sort(arr):\n",
    "    if len(arr) <= 1:\n",
    "        return arr\n",
    "    pivot = arr[len(arr) // 2]\n",
    "    left = [x for x in arr if x < pivot]\n",
    "    middle = [x for x in arr if x == pivot]\n",
    "    right = [x for x in arr if x > pivot]\n",
    "    return quick_sort(left) + middle + quick_sort(right)\n"
   ]
  },
  {
   "cell_type": "code",
   "execution_count": 2,
   "id": "acefcab4",
   "metadata": {},
   "outputs": [],
   "source": [
    "# Simulation: Measure the performance of each algorithm\n",
    "def simulate_sorting_performance():\n",
    "    algorithms = [bubble_sort, merge_sort, quick_sort]\n",
    "    data_sizes = [100, 1000, 5000, 10000]\n",
    "    performance_results = {}\n",
    "\n",
    "    for algorithm in algorithms:\n",
    "        algorithm_name = algorithm.__name__\n",
    "        #The __name__ attribute of a function object in Python returns the name of the function as a string.\n",
    "        performance_results[algorithm_name] = []\n",
    "\n",
    "        for size in data_sizes:\n",
    "            data = [random.randint(0, 10000) for _ in range(size)]\n",
    "            #for _ in range(size), range(size) creates a sequence of numbers from 0 up to, but not including, size and \n",
    "            #The variable _ is used as a placeholder when you don't need the actual values from the loop\n",
    "            #(it's a convention to indicate that the loop variable is not important).\n",
    "            start_time = time.time()\n",
    "            algorithm(data.copy())\n",
    "            end_time = time.time()\n",
    "            performance_results[algorithm_name].append(end_time - start_time)\n",
    "\n",
    "    return performance_results\n"
   ]
  },
  {
   "cell_type": "code",
   "execution_count": 3,
   "id": "1d3a4f42",
   "metadata": {},
   "outputs": [
    {
     "name": "stdout",
     "output_type": "stream",
     "text": [
      "bubble_sort: [0.0, 0.06920289993286133, 1.2717392444610596, 4.973938465118408]\n",
      "merge_sort: [0.0, 0.0019011497497558594, 0.011070489883422852, 0.0239870548248291]\n",
      "quick_sort: [0.0, 0.0009920597076416016, 0.007085323333740234, 0.015996456146240234]\n"
     ]
    }
   ],
   "source": [
    "# Run the simulation\n",
    "performance = simulate_sorting_performance()\n",
    "\n",
    "# Print results\n",
    "for algorithm, times in performance.items():\n",
    "    print(f\"{algorithm}: {times}\")"
   ]
  },
  {
   "cell_type": "code",
   "execution_count": null,
   "id": "817f278d",
   "metadata": {},
   "outputs": [],
   "source": []
  }
 ],
 "metadata": {
  "kernelspec": {
   "display_name": "Python 3 (ipykernel)",
   "language": "python",
   "name": "python3"
  },
  "language_info": {
   "codemirror_mode": {
    "name": "ipython",
    "version": 3
   },
   "file_extension": ".py",
   "mimetype": "text/x-python",
   "name": "python",
   "nbconvert_exporter": "python",
   "pygments_lexer": "ipython3",
   "version": "3.9.13"
  }
 },
 "nbformat": 4,
 "nbformat_minor": 5
}
