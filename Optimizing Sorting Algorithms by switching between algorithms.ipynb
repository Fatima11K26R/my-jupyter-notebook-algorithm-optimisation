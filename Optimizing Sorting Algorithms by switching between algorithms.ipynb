{
 "cells": [
  {
   "cell_type": "code",
   "execution_count": 1,
   "id": "29cb22b5",
   "metadata": {},
   "outputs": [],
   "source": [
    "#Optimizing Sorting Algorithms by switching between algorithms\n",
    "#optimize sorting by switching between Quick Sort and Insertion Sort based on the size of the input.\n",
    "#Quick Sort is usually faster for larger inputs, while Insertion Sort performs better on small lists.\n",
    "\n",
    "import random\n",
    "\n",
    "# Define Quick Sort\n",
    "def quick_sort(arr):\n",
    "    if len(arr) <= 1:\n",
    "        return arr\n",
    "    pivot = arr[len(arr) // 2]\n",
    "    left = [x for x in arr if x < pivot]\n",
    "    middle = [x for x in arr if x == pivot]\n",
    "    right = [x for x in arr if x > pivot]\n",
    "    return quick_sort(left) + middle + quick_sort(right)\n",
    "\n",
    "# Define Insertion Sort\n",
    "def insertion_sort(arr):\n",
    "    for i in range(1, len(arr)):\n",
    "        key = arr[i]\n",
    "        j = i - 1\n",
    "        while j >= 0 and key < arr[j]:\n",
    "            arr[j + 1] = arr[j]\n",
    "            j -= 1\n",
    "        arr[j + 1] = key\n",
    "    return arr"
   ]
  },
  {
   "cell_type": "code",
   "execution_count": 2,
   "id": "0435031c",
   "metadata": {},
   "outputs": [],
   "source": [
    "# Hybrid approach: decide which sorting algorithm to use\n",
    "def optimized_sort(arr, threshold=10):\n",
    "    if len(arr) < threshold:\n",
    "        # Use Insertion Sort for small arrays\n",
    "        return insertion_sort(arr)\n",
    "    else:\n",
    "        # Use Quick Sort for larger arrays\n",
    "        return quick_sort(arr)"
   ]
  },
  {
   "cell_type": "code",
   "execution_count": 3,
   "id": "37b0160a",
   "metadata": {},
   "outputs": [
    {
     "name": "stdout",
     "output_type": "stream",
     "text": [
      "Unsorted array: [3, 54, 26, 74, 69, 44, 17, 84, 41, 42, 31, 48, 23, 75, 10, 37, 41, 80, 20, 47]\n",
      "Sorted array: [3, 10, 17, 20, 23, 26, 31, 37, 41, 41, 42, 44, 47, 48, 54, 69, 74, 75, 80, 84]\n"
     ]
    }
   ],
   "source": [
    "# Example usage:\n",
    "size = 20\n",
    "arr = [random.randint(0, 100) for _ in range(size)]\n",
    "print(\"Unsorted array:\", arr)\n",
    "\n",
    "# Apply optimized sort with a threshold of 10\n",
    "sorted_arr = optimized_sort(arr, threshold=10)\n",
    "print(\"Sorted array:\", sorted_arr)"
   ]
  },
  {
   "cell_type": "code",
   "execution_count": null,
   "id": "0a7bfe61",
   "metadata": {},
   "outputs": [],
   "source": []
  }
 ],
 "metadata": {
  "kernelspec": {
   "display_name": "Python 3 (ipykernel)",
   "language": "python",
   "name": "python3"
  },
  "language_info": {
   "codemirror_mode": {
    "name": "ipython",
    "version": 3
   },
   "file_extension": ".py",
   "mimetype": "text/x-python",
   "name": "python",
   "nbconvert_exporter": "python",
   "pygments_lexer": "ipython3",
   "version": "3.9.13"
  }
 },
 "nbformat": 4,
 "nbformat_minor": 5
}
